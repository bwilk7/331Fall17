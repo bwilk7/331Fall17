{
 "cells": [
  {
   "cell_type": "markdown",
   "metadata": {
    "slideshow": {
     "slide_type": "slide"
    }
   },
   "source": [
    "# Android IV"
   ]
  },
  {
   "cell_type": "markdown",
   "metadata": {
    "slideshow": {
     "slide_type": "slide"
    }
   },
   "source": [
    "## Sensors\n",
    "- The hardware on Android devices is usually equipped with various sensors that can also cause events\n",
    "    - A list of Sensors can be found at  https://source.android.com/devices/sensors/sensor-types\n",
    "- These event must be attached programatically\n",
    "- The events are registed with a SensorManager object by passing the listener object and the sensor to listen for events on\n",
    "```java\n",
    "SensorManager is provided by the OS and retrieved using\n",
    "mySensorManager = (SensorManager) getSystemService(\n",
    "    Context.SENSOR_SERVICE);\n",
    "```"
   ]
  },
  {
   "cell_type": "markdown",
   "metadata": {
    "slideshow": {
     "slide_type": "slide"
    }
   },
   "source": [
    "## SensorEventListener\n",
    "- Just like for input events, the sensor events are handled by classes that implement SensorEventListener\n",
    "- This provides two methods that need to be overridden\n",
    "    - `onSensorChanged(SensorEvent event)` which is called when the sensor value changes\n",
    "    - `onAccuracyChanged(SensorEvent event, int accuracy)` which is called when the accuracy of the sensor changes for some reason"
   ]
  },
  {
   "cell_type": "markdown",
   "metadata": {
    "slideshow": {
     "slide_type": "slide"
    }
   },
   "source": [
    "## Biding a Listener to a Sensor\n",
    "- To attach the listener, an object representing the sensor must be retrieved from the sensor manager object\n",
    "```java\n",
    "temp = mSensorManager.getDefaultSensor(Sensor.TYPE_AMBIENT_TEMPERATURE);\n",
    "```\n",
    "- The listener is then attached using registerListener and passing the listener, the sensor, and the delay between sensor events\n",
    "```java\n",
    "mySensorManager.registerListener(new SensorEventListener(), temperature, SensorManager.SENSOR_DELAY_NORMAL);\n",
    "```"
   ]
  },
  {
   "cell_type": "markdown",
   "metadata": {
    "slideshow": {
     "slide_type": "slide"
    }
   },
   "source": [
    "## Getting Sensor Values\n",
    "- The `SensorEvent` object passed in has a field `values` which is an array of floats\n",
    "    - The readings of the sensor are held here\n",
    "- To determine which index holds which value, consult the list at https://developer.android.com/reference/android/hardware/SensorEvent.html#values\n",
    "- For example the Gyroscope has 3 values\n",
    "    - `values[0]` - speed around x axis\n",
    "    - `values[1]` - speed around y axis\n",
    "    - `values[2]` - speed around z axis"
   ]
  },
  {
   "cell_type": "markdown",
   "metadata": {
    "slideshow": {
     "slide_type": "slide"
    }
   },
   "source": [
    "## Using Location \n",
    "- When building an app there are two different APIs that can be used for location\n",
    "    - The `android.location` package\n",
    "        - Provides low level access to location API\n",
    "        - Doesn't require Google Play Services, is soley part of the Android system\n",
    "    - The `com.google.android.gms.location` package\n",
    "        - Higer level API\n",
    "        - Requires Google approved device\n",
    "        - Can be updated seperately from the OS"
   ]
  },
  {
   "cell_type": "markdown",
   "metadata": {
    "slideshow": {
     "slide_type": "slide"
    }
   },
   "source": [
    "## Play Services API Location\n",
    "- To use location from play services, first request permission for location\n",
    "```xml\n",
    "<uses-permission android:name=\"android.permission.ACCESS_COARSE_LOCATION\"/>\n",
    "```\n",
    "- Using the Play Services API requires Java classes that are not normally part of an Android Studio project\n",
    "    - To add them, add the following line to the `build.gradle (Module: app)` file under dependencies\n",
    "```\n",
    "implementation 'com.google.android.gms:play-services-location:11.6.0'\n",
    "```"
   ]
  },
  {
   "cell_type": "markdown",
   "metadata": {
    "slideshow": {
     "slide_type": "slide"
    }
   },
   "source": [
    "## Play Services API Location\n",
    "- Then a new client is created with specifications for the required API and the behavior on connection to that API\n",
    "```java\n",
    "mGoogleApiClient = LocationServices.getFusedLocationProviderClient()\n",
    "```\n",
    "- Use `getLastLocation` method to attach listeners to a task\n",
    "```\n",
    "mGoogleApiClient.getLastLocation().addOnSuccessListener(\n",
    "       new OnSuccessListener<Location>() {\n",
    "           @Override\n",
    "           public void onSuccess(Location location) {\n",
    "           ...\n",
    "```"
   ]
  },
  {
   "cell_type": "markdown",
   "metadata": {
    "slideshow": {
     "slide_type": "slide"
    }
   },
   "source": [
    "## Geocoding\n",
    "- The process of turning a longitude and latitude into an address is known as reverse geocoding\n",
    "- The `Geocoder` class has method to perform both forward and reverse geocoding\n",
    "    - `getFromLocation`\n",
    "    - `getFromLocationName`"
   ]
  },
  {
   "cell_type": "markdown",
   "metadata": {
    "slideshow": {
     "slide_type": "slide"
    }
   },
   "source": [
    "## Getting Location Updates\n",
    "- To get frequent updates on the location, call the `requestLocationUpdates` method of the API\n",
    "- This method requires two parameters, a `LocationRequest` object, and a `LocationCallback` object\n",
    "- `LocationRequest` is an object used to provide settings about the request, ie how frequent you should recieve updates, the priority of the updates, etc.\n",
    "` LocationCallBack` is an object that overrides the default `onLocationResult` method, which is fired when the location is updated"
   ]
  },
  {
   "cell_type": "markdown",
   "metadata": {
    "slideshow": {
     "slide_type": "slide"
    }
   },
   "source": [
    "## Services\n",
    "- So far we have been focusing on one major Android component, activities\n",
    "- Not everything needs a UI\n",
    "    - In these cases, a service is a good alternative\n",
    "- Still uses `Intent`s to start\n",
    "- Implementation should extend `Service`\n",
    "- Service inherits fron `Context`"
   ]
  },
  {
   "cell_type": "markdown",
   "metadata": {
    "slideshow": {
     "slide_type": "slide"
    }
   },
   "source": [
    "## Services in the Manifest\n",
    "- Services need to be declared in the Manifest\n",
    "```xml\n",
    "<service android:name=\"MyService\" \n",
    "         exported=\"False|True\"\n",
    "         />\n",
    "```\n",
    "- Setting `exported` to false prevent other apps from using your service"
   ]
  },
  {
   "cell_type": "markdown",
   "metadata": {
    "slideshow": {
     "slide_type": "slide"
    }
   },
   "source": [
    "## Started Services\n",
    "- Started using `startService`\n",
    "- Once started, can run forever\n",
    "    - Can run after component that started it is destroyed\n",
    "- Not designed to send information back to the starting component\n",
    "    - By default, starts in same thread as launching activity/service\n",
    "- May not be supported in the future"
   ]
  },
  {
   "cell_type": "markdown",
   "metadata": {
    "slideshow": {
     "slide_type": "slide"
    }
   },
   "source": [
    "## The Service Class (for Started Services)\n",
    "- In addition to extending the standard class `Service`, implement the following methods\n",
    "    - `onCreate`\n",
    "    - `onStartCommand`\n",
    "- To stop the service\n",
    "    - call `stopSelf()` from with in `Service` class\n",
    "    - call `stopService(Intent)` from another component"
   ]
  },
  {
   "cell_type": "markdown",
   "metadata": {
    "slideshow": {
     "slide_type": "slide"
    }
   },
   "source": [
    "## Common Uses of Services\n",
    "- Downloading a large file\n",
    "- Commits something to a database\n",
    "- Plays music"
   ]
  },
  {
   "cell_type": "markdown",
   "metadata": {
    "slideshow": {
     "slide_type": "slide"
    }
   },
   "source": [
    "## Bound Services\n",
    "- A bound service only exists as long as a component is bound to it\n",
    "    - Multiple components can bind to a service at one time\n",
    "- Bound services are meant to provide an interaction back and forth with the calling component\n",
    "- Started with `bindService(Intent,ServiceConnection,flags)`\n",
    "- Listen to the `onServiceConnected` of the `ServiceConnection`\n",
    "    - This gets an `IBinder` object that can be used to interact with the service\n",
    "    - The `IBinder` is returned from the service from the method `onBind`"
   ]
  },
  {
   "cell_type": "markdown",
   "metadata": {
    "slideshow": {
     "slide_type": "slide"
    }
   },
   "source": [
    "## Broadcasts\n",
    "- If we just want to send a message to a wide variety of activities or apps, we don't need a service\n",
    "    - We can use broadcast intents\n",
    "- Sent using `sendBroadcast()`\n",
    "- Recieved using a subclass of `BroadcastReciever`\n",
    "    - Must be registered in Manifest.xml"
   ]
  },
  {
   "cell_type": "markdown",
   "metadata": {
    "slideshow": {
     "slide_type": "slide"
    }
   },
   "source": [
    "## Sending Broadcasts\n",
    "- A broadcast sends an intent, which should be created by specifying an action\n",
    "    - The action can be a custom action, if so, it should be a class constant string\n",
    "- Any app on your device can possibly listen to this broadcast\n",
    "    - An optional permission can be suppied as part of the intent to prevent this\n",
    "- Not simple to send new broadcast types between apps"
   ]
  },
  {
   "cell_type": "markdown",
   "metadata": {
    "slideshow": {
     "slide_type": "slide"
    }
   },
   "source": [
    "## Recieving Broadcasts\n",
    "- Create a new class in your app that extends `BroadcastReciever`\n",
    "    - Override the `onRecieve` method\n",
    "- Register your reciever using the `<reciever>` tag\n",
    "    - Use intent filters to only process certain broadcasts\n",
    "    - Android has slowly been limiting the Broadcast you can listen to"
   ]
  }
 ],
 "metadata": {
  "celltoolbar": "Slideshow",
  "kernelspec": {
   "display_name": "Python 2",
   "language": "python",
   "name": "python2"
  },
  "language_info": {
   "codemirror_mode": {
    "name": "ipython",
    "version": 3
   },
   "file_extension": ".py",
   "mimetype": "text/x-python",
   "name": "python",
   "nbconvert_exporter": "python",
   "pygments_lexer": "ipython3",
   "version": "3.5.2"
  }
 },
 "nbformat": 4,
 "nbformat_minor": 2
}
