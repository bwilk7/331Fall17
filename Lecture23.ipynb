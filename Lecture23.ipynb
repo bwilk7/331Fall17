{
 "cells": [
  {
   "cell_type": "markdown",
   "metadata": {
    "slideshow": {
     "slide_type": "slide"
    }
   },
   "source": [
    "# Android III"
   ]
  },
  {
   "cell_type": "markdown",
   "metadata": {
    "slideshow": {
     "slide_type": "slide"
    }
   },
   "source": [
    "## Permissions\n",
    "- An application in Android can only use resources that it \"owns\"\n",
    "    - Your app owns very few resources to start with\n",
    "- To protect user privacy, as well as allow for easy management of privacy, the use of any resource not controlled by your application requires a permission"
   ]
  },
  {
   "cell_type": "markdown",
   "metadata": {
    "slideshow": {
     "slide_type": "slide"
    }
   },
   "source": [
    "## Normal vs Dangerous\n",
    "- Android has two levels of permission\n",
    "    - Normal\n",
    "    - Dangerous\n",
    "- Both must be explicitly requested!"
   ]
  },
  {
   "cell_type": "markdown",
   "metadata": {
    "slideshow": {
     "slide_type": "slide"
    }
   },
   "source": [
    "## Permissions in the Manifest\n",
    "- Permissions are requested in the Manifest\n",
    "    - Directly under the `<manifest>` tag\n",
    "- `<use-permission>` tag\n",
    "    - `android:name` Attribute specificies the permission requested\n",
    "- List of permissions available at https://developer.android.com/reference/android/Manifest.permission.html"
   ]
  },
  {
   "cell_type": "markdown",
   "metadata": {
    "slideshow": {
     "slide_type": "slide"
    }
   },
   "source": [
    "## Normal Permissions \n",
    "- These resources don't compromise user privacy or data\n",
    "- Are granted by Android on installation\n",
    "- Examples:\n",
    "    - Vibration\n",
    "    - Gettinng the size of all packages\n",
    "    - Getting statistics about the battery\n",
    "    - Using the internet"
   ]
  },
  {
   "cell_type": "markdown",
   "metadata": {
    "slideshow": {
     "slide_type": "slide"
    }
   },
   "source": [
    "## Dangerous\n",
    "- Resources that might perform sensitive operations\n",
    "     - Sending messages\n",
    "     - Answering Phone Calls\n",
    "     - Reading the Contact List\n",
    "     - Reading external storage\n",
    "- The user must explicitly grant these permissions\n",
    "    - In newer versions of Android it is your responsibilty to ask!\n",
    "  "
   ]
  },
  {
   "cell_type": "markdown",
   "metadata": {
    "slideshow": {
     "slide_type": "slide"
    }
   },
   "source": [
    "## Permissions in Android 6+\n",
    "- Starting with Android M (Marshmallow/ 6.0) permissions are granted slightly differently\n",
    "- Rather than asking for all needed permissions at installation, they are requested as needed through use of the app\n",
    "    - Still are all listed in the Manifest, the user is not prompted until they are needed\n",
    "- The user can revoke permissions at any time through the OS settings"
   ]
  },
  {
   "cell_type": "markdown",
   "metadata": {
    "slideshow": {
     "slide_type": "slide"
    }
   },
   "source": [
    "## Checking Permissions at Run TIme\n",
    "- Because permissions can change between runs of an app, it is not safe to assume they are granted\n",
    "- Check them ar Runtime!\n",
    "```java\n",
    "if(ContextCompat.checkSelfPermission(this,\n",
    "            Manifest.permission.PERMISSION_CONSTANT) == \n",
    "            PackageManager.PERMISSION_GRANTED){\n",
    "}\n",
    "```\n",
    "- If you don't have them you must ask for them\n",
    "```java\n",
    "requestPermissions(this, String PermissionsArray[], requestCode)\n",
    "```"
   ]
  },
  {
   "cell_type": "markdown",
   "metadata": {
    "slideshow": {
     "slide_type": "slide"
    }
   },
   "source": [
    "## Responding to a Permissions Request\n",
    "- When we request permissions, the OS uses a dialog box to prompt for them\n",
    "    - This places our activity in the paused state, as it is partially obscured\n",
    "- The `onRequestPermissionsResult` event handler is fired when the activity is resumed\n",
    "    - Has as parameters the requestCode, the permissions array, and an array of which permissions were granted\n",
    "    - Should do the same thing you were about to do when you requested the permissions"
   ]
  },
  {
   "cell_type": "markdown",
   "metadata": {
    "slideshow": {
     "slide_type": "slide"
    }
   },
   "source": [
    "## Avoiding Permissions\n",
    "- Using too many permissions makes users suspicious of your app\n",
    "    - It also is a sign you are doing too much on your own\n",
    "- Whenever possible, use an intent to launch another activity rather than request permissions to do it yourself"
   ]
  },
  {
   "cell_type": "markdown",
   "metadata": {
    "slideshow": {
     "slide_type": "slide"
    }
   },
   "source": [
    "## Storage on Android\n",
    "- Storage space on Android is divided into two main areas\n",
    "    - Internal\n",
    "    - External\n",
    "        - Name is a reflection of earlier phones that used a physically external device like an SD card\n",
    "        - Often is one the same disk as Internal storage now\n",
    "- The permissions needed and the privacy given are different for each"
   ]
  },
  {
   "cell_type": "markdown",
   "metadata": {
    "slideshow": {
     "slide_type": "slide"
    }
   },
   "source": [
    "## Using Internal Storage\n",
    "- Internal storage is private to your app and requires no permission\n",
    "- There are two methods inherited from Context that let use use internal storage\n",
    "    - `context.getFilesDir()` returns a java.io.File object representing the location\n",
    "    - `openFileOutput()` returns a java.io.FileOutputStream object represinting the actualy stream\n",
    "        - Needs to be passed `Context.MODE_PRIVATE` to open in Internal Storage"
   ]
  },
  {
   "cell_type": "markdown",
   "metadata": {
    "slideshow": {
     "slide_type": "slide"
    }
   },
   "source": [
    "## External Storage\n",
    "- External Storage requires permission using either\n",
    "    - `WRITE_EXTERNAL_STORAGE`\n",
    "    - `READ_EXTERNAL_STORAGE`\n",
    "- This is usually public and readable by all apps and users on the system\n",
    "    - Sticks around after app is uninstalled\n",
    "- Might not be available\n",
    "    - User could mount their phone as USB hardrive on computer"
   ]
  },
  {
   "cell_type": "markdown",
   "metadata": {
    "slideshow": {
     "slide_type": "slide"
    }
   },
   "source": [
    "## Using External Storage\n",
    "- First Check if the extenral storage is available for whatever you are trying to do with it\n",
    "```java\n",
    " String state = Environment.getExternalStorageState();\n",
    "    if (Environment.MEDIA_MOUNTED[_READ_ONLY].equals(state)) {\n",
    "       \n",
    "    }\n",
    "```\n",
    "- Next get the appropriate external location\n",
    "    - Public\n",
    "    - Private"
   ]
  },
  {
   "cell_type": "markdown",
   "metadata": {
    "slideshow": {
     "slide_type": "slide"
    }
   },
   "source": [
    "## Public External Storage\n",
    "- Meant to be a common location all apps use\n",
    "    - Pictures\n",
    "    - Ringtones\n",
    "```java\n",
    "Environment.getExternalStoragePublicDirectory(\n",
    "            Environment.DIRECTORY_CONSTNANT);\n",
    "```\n",
    "- A full list of public directories is available at https://developer.android.com/reference/android/os/Environment.html"
   ]
  },
  {
   "cell_type": "markdown",
   "metadata": {
    "slideshow": {
     "slide_type": "slide"
    }
   },
   "source": [
    "## Private External Storage\n",
    "- This is still world-readable and not private in a privacy sense\n",
    "- It is known as private because of how android structures the external storage directory\n",
    "    - Associated with your app only\n",
    "    - Will be deleted when app is uninstalled\n",
    "```java\n",
    "getExternalFilesDir(null)\n",
    "```"
   ]
  },
  {
   "cell_type": "markdown",
   "metadata": {
    "slideshow": {
     "slide_type": "slide"
    }
   },
   "source": [
    "## Camera Example\n",
    "- We will talk through this, it's actually a little complicated "
   ]
  },
  {
   "cell_type": "markdown",
   "metadata": {
    "slideshow": {
     "slide_type": "slide"
    }
   },
   "source": [
    "## Other Storage Mechanisms\n",
    "- Android has built in support for several other storage mechanisms\n",
    "    - Network based storage\n",
    "    - Databases\n",
    "        - SQLLite locally\n",
    "        - Firebase over the network\n",
    "    - Shared Preferences"
   ]
  },
  {
   "cell_type": "markdown",
   "metadata": {
    "slideshow": {
     "slide_type": "slide"
    }
   },
   "source": [
    "## Shared Preferences\n",
    "- Shared Preferences are another type of private data \n",
    "- Are used to store small key-value pairs accross runs of the app\n",
    "    - Things like preferences\n",
    "- You need to create the file, but normally there is just one per app\n",
    "```\n",
    "private String sharedPrefFile = \"your.package.namesharedprefs\";\n",
    "mPreferences = getSharedPreferences(sharedPrefFile, MODE_PRIVATE);\n",
    "```"
   ]
  },
  {
   "cell_type": "markdown",
   "metadata": {
    "slideshow": {
     "slide_type": "slide"
    }
   },
   "source": [
    "## Shared Preferences\n",
    "- The Shared Perferences object doesn't allow you to directly edit it\n",
    "    - Use the object to get a `SharedPreferences.Editor object`\n",
    "    - Call the various `put` methods of the editor\n",
    "    - Call the `apply` method to \"commit\" the preferences\n",
    "- This is normally done in `onPause`"
   ]
  },
  {
   "cell_type": "markdown",
   "metadata": {
    "slideshow": {
     "slide_type": "slide"
    }
   },
   "source": [
    "## Sensors\n",
    "- The hardware on Android devices is usually equipped with various sensors that can also cause events\n",
    "    - A list of Sensors can be found at  https://source.android.com/devices/sensors/sensor-types\n",
    "- These event must be attached programatically\n",
    "- The events are registed with a SensorManager object by passing the listener object and the sensor to listen for events on\n",
    "```java\n",
    "SensorManager is provided by the OS and retrieved using\n",
    "mySensorManager = (SensorManager) getSystemService(\n",
    "    Context.SENSOR_SERVICE);\n",
    "```"
   ]
  },
  {
   "cell_type": "markdown",
   "metadata": {
    "slideshow": {
     "slide_type": "slide"
    }
   },
   "source": [
    "## SensorEventListener\n",
    "- Just like for input events, the sensor events are handled by classes that implement SensorEventListener\n",
    "- This provides two methods that need to be overridden\n",
    "    - `onSensorChanged(SensorEvent event)` which is called when the sensor value changes\n",
    "    - `onAccuracyChanged(SensorEvent event, int accuracy)` which is called when the accuracy of the sensor changes for some reason"
   ]
  },
  {
   "cell_type": "markdown",
   "metadata": {
    "slideshow": {
     "slide_type": "slide"
    }
   },
   "source": [
    "## Biding a Listener to a Sensor\n",
    "- To attach the listener, an object representing the sensor must be retrieved from the sensor manager object\n",
    "```java\n",
    "temp = mSensorManager.getDefaultSensor(Sensor.TYPE_TEMPERATURE);\n",
    "```\n",
    "- The listener is then attached using registerListener and passing the listener, the sensor, and the delay between sensor events\n",
    "```java\n",
    "mySensorManager.registerListener(new SensorEventListener(), temperature, SensorManager.SENSOR_DELAY_NORMAL);\n",
    "```"
   ]
  },
  {
   "cell_type": "markdown",
   "metadata": {
    "slideshow": {
     "slide_type": "slide"
    }
   },
   "source": [
    "## Using Location \n",
    "- When building an app there are two different APIs that can be used for location\n",
    "    - The `android.location` package\n",
    "        - Provides low level access to location API\n",
    "        - Doesn't require Google Play Services, is soley part of the Android system\n",
    "    - The `com.google.android.gms.location` package\n",
    "        - Higer level API\n",
    "        - Requires Google approved device\n",
    "        - Can be updated seperately from the OS"
   ]
  },
  {
   "cell_type": "markdown",
   "metadata": {
    "slideshow": {
     "slide_type": "slide"
    }
   },
   "source": [
    "## Play Services API Location\n",
    "- To use location from play services, first request permission for location\n",
    "```xml\n",
    "<uses-permission android:name=\"android.permission.ACCESS_COARSE_LOCATION\"/>\n",
    "```\n",
    "- Then a new client is created with specifications for the required API and the behavior on connection to that API\n",
    "```java\n",
    "mGoogleApiClient = LocationServices.getFusedLocationProviderClient()\n",
    "```\n",
    "- Use `getLastLocation` method to attach listeners to a task\n",
    "```\n",
    "mGoogleApiClient.getLastLocation().addOnSuccessListener(\n",
    "       new OnSuccessListener<Location>() {\n",
    "           @Override\n",
    "           public void onSuccess(Location location) {\n",
    "           ...\n",
    "```"
   ]
  }
 ],
 "metadata": {
  "celltoolbar": "Slideshow",
  "kernelspec": {
   "display_name": "Python 2",
   "language": "python",
   "name": "python2"
  },
  "language_info": {
   "codemirror_mode": {
    "name": "ipython",
    "version": 3
   },
   "file_extension": ".py",
   "mimetype": "text/x-python",
   "name": "python",
   "nbconvert_exporter": "python",
   "pygments_lexer": "ipython3",
   "version": "3.5.2"
  }
 },
 "nbformat": 4,
 "nbformat_minor": 2
}
