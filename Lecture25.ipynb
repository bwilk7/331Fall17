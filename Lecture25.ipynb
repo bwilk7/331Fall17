{
 "cells": [
  {
   "cell_type": "markdown",
   "metadata": {
    "slideshow": {
     "slide_type": "slide"
    }
   },
   "source": [
    "# Logic Programming"
   ]
  },
  {
   "cell_type": "markdown",
   "metadata": {
    "collapsed": true,
    "slideshow": {
     "slide_type": "slide"
    }
   },
   "source": [
    "## What is Logic Programming?\n",
    "- In contrast to all other types of programming encountered this semester, Logic Programming is nonprocedural\n",
    "    - The focus is on *what* to compute as opposed to *how* to compute it\n",
    "- A common example of this is sorting\n",
    "    - Instead of coding how to do the sorting, describe what a sorted list looks like\n",
    "\n",
    "$ sort(old\\_list,new\\_list) \\subset permute(old\\_list,new\\_list) \\cap sorted(new\\_list) $\n",
    "\n",
    "$ sorted(list) \\subset \\forall j \\textrm{ such that } 1 \\leq j \\le n, list(j) \\leq list(j + 1) $"
   ]
  },
  {
   "cell_type": "markdown",
   "metadata": {
    "slideshow": {
     "slide_type": "slide"
    }
   },
   "source": [
    "## Prolog\n",
    "- Prolog is by far the most widely used logic programming language\n",
    "- Was invented in the 70's\n",
    "- Is based of a system of facts and rules\n",
    "- Originally intended for theroem proving and natural language processing"
   ]
  },
  {
   "cell_type": "markdown",
   "metadata": {
    "slideshow": {
     "slide_type": "slide"
    }
   },
   "source": [
    "## Prolog on GL\n",
    "- Like LISP and Scheme, there are many dialects of prolog\n",
    "    - The one on GL is invoked using the command **sicstus**\n",
    "- The prolog interpreter has two modes, entering facts and querying\n",
    "    - The default mode is query\n",
    "    - To enter the fact mode, enter `[user].` and hit enter. Type `ctrl+D` to return to query mode\n",
    "- To exit the interpreter, type `ctrl+C` followed by `e`"
   ]
  },
  {
   "cell_type": "markdown",
   "metadata": {
    "slideshow": {
     "slide_type": "slide"
    }
   },
   "source": [
    "## The Syntax of Prolog\n",
    "- Prolog has a very limited set of valid statements\n",
    "- Atom\n",
    "    - Like an atom in LISP or Scheme, it is a symbolic value\n",
    "    - Can contain underscores, letters, or numbers\n",
    "    - Must start with a lowercase letter or be between single quotes\n",
    "- Variable\n",
    "    - Can also contain underscores, letters, or numbers\n",
    "    - Must start with an uppercase letter\n",
    "    \n",
    "    "
   ]
  },
  {
   "cell_type": "markdown",
   "metadata": {
    "slideshow": {
     "slide_type": "slide"
    }
   },
   "source": [
    "## The Syntax of Prolog \n",
    "- The third type of data in prolog is known as a structure\n",
    "- The basic form is:\n",
    "```\n",
    "    functor(parameter list)\n",
    "```\n",
    "- The functor is any atom and is used to identify the structure\n",
    "- The parameter list are atoms or variables separated by commas\n",
    "- The functor can be though of as a relationship between the parameters in First-Order Logic"
   ]
  },
  {
   "cell_type": "markdown",
   "metadata": {
    "slideshow": {
     "slide_type": "slide"
    }
   },
   "source": [
    "## Fact Statements\n",
    "- Prolog programs are made up of facts and rules to be consulted\n",
    "- The facts in a program are a list of structures\n",
    "- Every statement ends in a period\n"
   ]
  },
  {
   "cell_type": "markdown",
   "metadata": {
    "slideshow": {
     "slide_type": "slide"
    }
   },
   "source": [
    "## Fact Statement Examples\n",
    "- The following facts describe the relationships between family members\n",
    "```\n",
    "female(shelley).\n",
    "male(bill).\n",
    "female(mary).\n",
    "male(jake).\n",
    "father(bill, jake).\n",
    "father(bill, shelley).\n",
    "mother(mary, jake).\n",
    "mother(mary, shelley).\n",
    "```"
   ]
  },
  {
   "cell_type": "markdown",
   "metadata": {
    "slideshow": {
     "slide_type": "slide"
    }
   },
   "source": [
    "## Fact Statement Example\n",
    "- Write statements for the following facts:\n",
    "    - English,German,French,Spanish,Welsh,Russian,Persian,Hindu, and Gujarati are all languages\n",
    "    - German and English are Germanic Languages\n",
    "    - Spanish and French are Romance Languages\n",
    "    - Welsh is a Celtic Language\n",
    "    - Russian is a Slavic Language\n",
    "    - Persian is a Iranian Language\n",
    "    - Hindu and Gujarati are Indic Languges"
   ]
  },
  {
   "cell_type": "markdown",
   "metadata": {
    "slideshow": {
     "slide_type": "slide"
    }
   },
   "source": [
    "## Fact Statement Practice\n",
    "- Write a knowledge base with the following facts\n",
    "    - CMSC 201 is a prerequisite for CMSC 202\n",
    "    - CMSC 202 is a prerequisite for CMSC 313\n",
    "    - CMSC 202 is a prerequisite for CMSC 341\n",
    "    - CMSC 313 is a prerequisite for CMSC 411"
   ]
  },
  {
   "cell_type": "markdown",
   "metadata": {
    "slideshow": {
     "slide_type": "slide"
    }
   },
   "source": [
    "## Logic in Rule Statements\n",
    "- When are are multiple structures in the antecedent, thare are connected by and clauses\n",
    "- The statement below is read as \"if antecedent1 and atencedent2 then consequence\"\n",
    "```js\n",
    "    consequence :- antecedent1, antecedent2. \n",
    "```\n",
    "- There is no explicit way to say or in prolog\n",
    "    - Instead two statements are used\n",
    "```js\n",
    "    consequence :- antecedentA.\n",
    "    consequence :- antecedentB.\n",
    "```"
   ]
  },
  {
   "cell_type": "markdown",
   "metadata": {
    "slideshow": {
     "slide_type": "slide"
    }
   },
   "source": [
    "## Using Variables in Rules\n",
    "- It is perfectly legal, but very boring to have a rule with no variables\n",
    "```js\n",
    "    ancestor(mary,shelley) :- mother(mary,shelley).\n",
    "```\n",
    "- When using variables in prolog, it is like adding the universal quantifier $\\forall$ to the statement\n",
    "```\n",
    "parent(X, Y) :- mother(X, Y).\n",
    "parent(X, Y) :- father(X, Y).\n",
    "grandparent(X, Z) :- parent(X, Y), parent(Y, Z).\n",
    "```"
   ]
  },
  {
   "cell_type": "markdown",
   "metadata": {
    "slideshow": {
     "slide_type": "slide"
    }
   },
   "source": [
    "## Prolog Rule Example\n",
    "- Write rules for the following relationships\n",
    "    - Iranian Language are a type of Indo-Iranian Language\n",
    "    - Indic Languages are a type of Indo-Iranian Language\n",
    "    - Indo-Iranian Languages are a type of Indo-European Language\n",
    "    - Germanic Languages are a type of Indo-European Language\n",
    "    - Romance Languages are a type of Indo-European Language\n",
    "    - Celtic Languages are a type of Indo-European Language\n",
    "    - Slavic Languages are a type of Indo-European Language\n"
   ]
  },
  {
   "cell_type": "markdown",
   "metadata": {
    "slideshow": {
     "slide_type": "slide"
    }
   },
   "source": [
    "## Prolog Rule Practice\n",
    "- Write the rule for the following relationship\n",
    "    - A student can take a class if they have passed the prerequisite\n",
    "- Use the following functor to represent a student having passed a class\n",
    "```prolog\n",
    "    passed(bryan,cs202)\n",
    "```"
   ]
  },
  {
   "cell_type": "markdown",
   "metadata": {
    "slideshow": {
     "slide_type": "slide"
    }
   },
   "source": [
    "## Querying Prolog\n",
    "- Once we have defined the facts and rules in our program, we can use prolog to prove hypothesis\n",
    "- At the most basic level, a query can be something like `male(bill).` to which the system will return **yes** or **no**\n",
    "- More advanced queries are given with variables such as `father(X,jake).` which will return an answer if one exists."
   ]
  },
  {
   "cell_type": "markdown",
   "metadata": {
    "slideshow": {
     "slide_type": "slide"
    }
   },
   "source": [
    "## A more efficent way to query\n",
    "- Entering into user mode and having to enter all the facts is quite cumbersome\n",
    "- Most prolog implementations have a way to store the database of facts and rules in a file\n",
    "    - In scistus this is done using the __consult__ call\n",
    "```\n",
    "    consult('file.pl')\n",
    "```\n",
    "- After this, all facts are loaded and the interpreter can be used to query"
   ]
  },
  {
   "cell_type": "markdown",
   "metadata": {
    "slideshow": {
     "slide_type": "slide"
    }
   },
   "source": [
    "## How Prolog Solves Queries\n",
    "- The process of solving a query is known as **unification** because a variable and a symbol are unified during the process\n",
    "    - It is similiar to assignment\n",
    "    - It is better thought of as pattern matching\n",
    "- There are two general algorithms\n",
    "    - Forward Chaining starts with facts and attempts to derive the query through several steps\n",
    "    - Backward Chaining starts with the query and matches rules and facts until variables are unified"
   ]
  },
  {
   "cell_type": "markdown",
   "metadata": {
    "slideshow": {
     "slide_type": "slide"
    }
   },
   "source": [
    "## How Prolog Solves Queries\n",
    "- Sometimes, two rules or facts will work at a given stage\n",
    "    - Here prolog must pick which statement to try first using either breath or depth first searching\n",
    "- When the interpreter makes a wrong guess it needs to be able to backtrack to the last decision point and try another rule or fact\n",
    "- The process of unification can be viewd by enabling tracing\n",
    "    - In sicstus this is done by typing `ctrl+C` followed by t"
   ]
  },
  {
   "cell_type": "markdown",
   "metadata": {
    "slideshow": {
     "slide_type": "slide"
    }
   },
   "source": [
    "## Recursion\n",
    "- Like many languages, recursion is an important part of prolog\n",
    "- To use recursion in prolog\n",
    "    - Make multiple rules for a single consequence\n",
    "    - Place the base rule first\n",
    "```\n",
    "ancestor(X,Y) :- parent(X,Y).\n",
    "ancestor(X,Y) :- parent(X,Z), ancestor(Z,Y).\n",
    "```"
   ]
  },
  {
   "cell_type": "markdown",
   "metadata": {
    "slideshow": {
     "slide_type": "slide"
    }
   },
   "source": [
    "## Recursion Practice\n",
    "- Lets use a knowledge base of our favorite things (Trains!) to determine if it is possible to travel between two points using the train.\n",
    "    - What are our initial facts?\n",
    "    - What is the recursive rule?\n",
    "    - What if I wanted to constrain it to traveling with no transfers?"
   ]
  },
  {
   "cell_type": "markdown",
   "metadata": {
    "slideshow": {
     "slide_type": "slide"
    }
   },
   "source": [
    "## Math\n",
    "- Mathematical equations in prolog are assigned to variables using the keyword `is`\n",
    "```prolog\n",
    "A is 4 + 3.\n",
    "```\n",
    "- `is` can be used in rules to create things that behave like functions\n",
    "```prolog\n",
    "plus(X,Y,Z) :- Z is X + Y.\n",
    "```"
   ]
  },
  {
   "cell_type": "markdown",
   "metadata": {
    "slideshow": {
     "slide_type": "slide"
    }
   },
   "source": [
    "## Factorial in Prolog\n",
    "```prolog\n",
    "fac(0,1).\n",
    "fac(A,B) :- \n",
    "      A > 0, \n",
    "      Ax is A - 1,\n",
    "      fac(Ax,Bx), \n",
    "      B is A * Bx.\n",
    "```"
   ]
  },
  {
   "cell_type": "markdown",
   "metadata": {
    "slideshow": {
     "slide_type": "slide"
    }
   },
   "source": [
    "## Math Example\n",
    "- Write a rule to indicate if number Y is divisble by number X"
   ]
  },
  {
   "cell_type": "markdown",
   "metadata": {
    "slideshow": {
     "slide_type": "slide"
    }
   },
   "source": [
    "## Math Practice\n",
    "- Write a rule to decrement a number by one"
   ]
  },
  {
   "cell_type": "markdown",
   "metadata": {
    "slideshow": {
     "slide_type": "slide"
    }
   },
   "source": [
    "## Lists \n",
    "- Prolog supports lists, which are denoted by square brackets (`[]`) and separated with commas `,`\n",
    "- The syntax `[X|Y]` will unify  X with the first element in the list, and Y with the rest of the list\n",
    "    - This is more flexible than in scheme, you can write things like `[X,Z| Y]` etc."
   ]
  },
  {
   "cell_type": "markdown",
   "metadata": {
    "slideshow": {
     "slide_type": "slide"
    }
   },
   "source": [
    "## List Exercise\n",
    "- Write a rule to determine if an element is a member of a list"
   ]
  },
  {
   "cell_type": "markdown",
   "metadata": {
    "slideshow": {
     "slide_type": "slide"
    }
   },
   "source": [
    "## List Practice\n",
    "- Write a rule to determine if a variable is the last element in a list\n",
    "- You can test for an empty list by adding the following fact to a knowledge base\n",
    "    - `empty([],true).`"
   ]
  },
  {
   "cell_type": "markdown",
   "metadata": {
    "slideshow": {
     "slide_type": "slide"
    }
   },
   "source": [
    "\n",
    "\n",
    "## Cons of Prolog\n",
    "- Prolog can be very inefficent\n",
    "    - If we had implemented the storting algorithm discussed at the beginning of lecture, prolog will just guess list permutations until it finds one that is sorted\n",
    "- If a fact in not in the database, prolog assumes it is false\n",
    "- Programming anything other than logic is cumbersome\n",
    "    - Prolog is often more useful when used with another language"
   ]
  },
  {
   "cell_type": "markdown",
   "metadata": {
    "slideshow": {
     "slide_type": "slide"
    }
   },
   "source": [
    "## Attribution\n",
    "- Many examples in today's lecture taken from\n",
    "    - <a href=\"http://www.learnprolognow.org/lpnpage.php?pageid=online\">Learn Prolog Now!</a>\n",
    "    - <a href=\"https://en.m.wikibooks.org/wiki/Prolog\">Wikibooks Prolog</a>"
   ]
  }
 ],
 "metadata": {
  "celltoolbar": "Slideshow",
  "kernelspec": {
   "display_name": "Calysto Prolog",
   "language": "prolog",
   "name": "calysto_prolog"
  },
  "language_info": {
   "codemirror_mode": {
    "name": "prolog"
   },
   "mimetype": "text/x-prolog",
   "name": "prolog",
   "pygments_lexer": "prolog"
  }
 },
 "nbformat": 4,
 "nbformat_minor": 1
}
